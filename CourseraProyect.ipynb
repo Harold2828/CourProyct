{
 "cells": [
  {
   "cell_type": "code",
   "execution_count": 2,
   "metadata": {},
   "outputs": [],
   "source": [
    "#This notebook is based from a notebook of the user Leobewin1 of kaggle\n",
    "#Link of based notebook: https://www.kaggle.com/leoisleo1/future-sales-3\n",
    "import numpy as np\n",
    "import pandas as pd\n",
    "import gc\n",
    "import matplotlib.pyplot as plt\n",
    "import re\n",
    "import datetime\n",
    "import seaborn as sns\n",
    "import os\n",
    "from itertools import product\n",
    "from sklearn import *\n",
    "from xgboost import XGBRegressor"
   ]
  },
  {
   "cell_type": "code",
   "execution_count": 3,
   "metadata": {},
   "outputs": [],
   "source": [
    "#Functions\n",
    "#Use for count since 1 to endNumber\n",
    "def intLine(endNumber):\n",
    "    keep=list()\n",
    "    for i in range(endNumber):\n",
    "        keep.append(i)\n",
    "    return keep\n",
    "#For the letters\n",
    "def n_c(old):\n",
    "    old=old.lower()\n",
    "    old=old.partition('(')[0]\n",
    "    old=old.partition('[')[0]\n",
    "    old=re.sub('[^A-Za-z0-9А-Яа-я]+','',old)\n",
    "    old=old.strip()\n",
    "    return old \n",
    "#For replace the letters\n",
    "def use_replace(data_frame,name):\n",
    "    data_frame[name]=data_frame[name].replace('[^A-Za-z0-9А-Яа-я]+',' ').str.lower()\n",
    "    return data_frame\n",
    "#Use for cleaning data\n",
    "def cleaning(data_set):\n",
    "    data_set.loc[data_set.shop_id==0,'shop_id']=57\n",
    "    data_set.loc[data_set.shop_id==1,'shop_id']=58\n",
    "    data_set.loc[data_set.shop_id==10,'shop_id']==11\n",
    "    return data_set\n",
    "#Use for the features\n",
    "def feature_us(data_frame,x,column):\n",
    "    for col in column:\n",
    "        print(col)\n",
    "        temporal_data_frame = data_frame[[\"date_block_num\", \"shop_id\",\"item_id\",col ]]\n",
    "        for i in x:\n",
    "            change = temporal_data_frame.copy()\n",
    "            change.columns = [\"date_block_num\", \"shop_id\", \"item_id\", col + \"_lag_\"+str(i)]\n",
    "            change.date_block_num = change.date_block_num + i\n",
    "            data_frame = pd.merge(data_frame, change, on=['date_block_num','shop_id','item_id'], how='left')\n",
    "            \n",
    "    return data_frame\n",
    "#Use for define a limit in a dataFrame\n",
    "def featureador(dataFrame,columnName,intype):\n",
    "    if intype ==8:\n",
    "        dataFrame[columnName]=dataFrame[columnName].astype(np.int8)\n",
    "    elif intype ==16:\n",
    "        dataFrame[columnName]=dataFrame[columnName].astype(np.int16)\n",
    "    return dataFrame\n",
    "#For work in features\n",
    "def work_features(ls,columnUsed,x_list,named):\n",
    "    namedUsing=str(np.squeeze(named))\n",
    "    ls_g=list_sales.groupby(columnUsed).agg({'item_cnt_month':'mean'})\n",
    "    ls_g.columns=named\n",
    "    ls_g.reset_index(inplace=True)\n",
    "    \n",
    "    \n",
    "    ls=pd.merge(ls,ls_g,on=columnUsed,how='left')\n",
    "    ls[namedUsing]=ls[namedUsing].astype(np.float16)\n",
    "    ls=feature_us(ls,x_list,named)\n",
    "    ls.drop(named,axis=1,inplace=True)\n",
    "    return ls\n",
    "def s_using(samples):\n",
    "    for i in x_list:\n",
    "        if samples['delta_price_lag_'+str(i)]:\n",
    "            return samples['delta_price_lag_'+str(i)]\n",
    "    return 0"
   ]
  },
  {
   "cell_type": "code",
   "execution_count": 4,
   "metadata": {},
   "outputs": [],
   "source": [
    "#We read all the files CSV\n",
    "items=pd.read_csv('items.csv')\n",
    "categories=pd.read_csv('item_categories.csv')\n",
    "shops=pd.read_csv('shops.csv')\n",
    "sales_training=pd.read_csv('sales_train.csv')\n",
    "sales_testing=pd.read_csv('test.csv')\n",
    "sample_submission=pd.read_csv('sample_submission.csv')"
   ]
  },
  {
   "cell_type": "code",
   "execution_count": 5,
   "metadata": {},
   "outputs": [
    {
     "name": "stdout",
     "output_type": "stream",
     "text": [
      "                                           item_name  item_id  \\\n",
      "0          ! ВО ВЛАСТИ НАВАЖДЕНИЯ (ПЛАСТ.)         D        0   \n",
      "1  !ABBYY FineReader 12 Professional Edition Full...        1   \n",
      "2      ***В ЛУЧАХ СЛАВЫ   (UNV)                    D        2   \n",
      "3    ***ГОЛУБАЯ ВОЛНА  (Univ)                      D        3   \n",
      "4        ***КОРОБКА (СТЕКЛО)                       D        4   \n",
      "\n",
      "   item_category_id  \n",
      "0                40  \n",
      "1                76  \n",
      "2                40  \n",
      "3                40  \n",
      "4                40   \n",
      "_________________\n",
      "         item_category_name  item_category_id\n",
      "0  PC - Гарнитуры/Наушники                 0\n",
      "1         Аксессуары - PS2                 1\n",
      "2         Аксессуары - PS3                 2\n",
      "3         Аксессуары - PS4                 3\n",
      "4         Аксессуары - PSP                 4 \n",
      "_________________\n",
      "                         shop_name  shop_id\n",
      "0   !Якутск Орджоникидзе, 56 фран        0\n",
      "1   !Якутск ТЦ \"Центральный\" фран        1\n",
      "2                Адыгея ТЦ \"Мега\"        2\n",
      "3  Балашиха ТРК \"Октябрь-Киномир\"        3\n",
      "4        Волжский ТЦ \"Волга Молл\"        4 \n",
      "_________________\n",
      "          date  date_block_num  shop_id  item_id  item_price  item_cnt_day\n",
      "0  02.01.2013               0       59    22154      999.00           1.0\n",
      "1  03.01.2013               0       25     2552      899.00           1.0\n",
      "2  05.01.2013               0       25     2552      899.00          -1.0\n",
      "3  06.01.2013               0       25     2554     1709.05           1.0\n",
      "4  15.01.2013               0       25     2555     1099.00           1.0 \n",
      "_________________\n",
      "    ID  shop_id  item_id\n",
      "0   0        5     5037\n",
      "1   1        5     5320\n",
      "2   2        5     5233\n",
      "3   3        5     5232\n",
      "4   4        5     5268 \n",
      "_________________\n",
      "    ID  item_cnt_month\n",
      "0   0             0.5\n",
      "1   1             0.5\n",
      "2   2             0.5\n",
      "3   3             0.5\n",
      "4   4             0.5\n"
     ]
    }
   ],
   "source": [
    "#See all the files\n",
    "line=\"\\n_________________\\n\"\n",
    "print(items.head(),line,categories.head(),\n",
    "      line,shops.head(),line,sales_training.head(),line,sales_testing.head(),line,sample_submission.head())"
   ]
  },
  {
   "cell_type": "markdown",
   "metadata": {},
   "source": [
    "# Data visualization"
   ]
  },
  {
   "cell_type": "code",
   "execution_count": 6,
   "metadata": {},
   "outputs": [
    {
     "data": {
      "text/plain": [
       "<matplotlib.axes._subplots.AxesSubplot at 0x2bfac9ab2e8>"
      ]
     },
     "execution_count": 6,
     "metadata": {},
     "output_type": "execute_result"
    },
    {
     "data": {
      "image/png": "[encoded data removed]",
      "text/plain": [
       "<Figure size 432x288 with 1 Axes>"
      ]
     },
     "metadata": {
      "needs_background": "light"
     },
     "output_type": "display_data"
    }
   ],
   "source": [
    "#Barplot of each category\n",
    "ax1=items.groupby(['item_category_id']).count()\n",
    "ax1=ax1.sort_values(by='item_id')\n",
    "ax1=ax1.reset_index()\n",
    "%matplotlib inline\n",
    "sns.barplot(ax1['item_category_id'],ax1['item_id'])"
   ]
  },
  {
   "cell_type": "code",
   "execution_count": 7,
   "metadata": {},
   "outputs": [
    {
     "data": {
      "text/plain": [
       "[<matplotlib.lines.Line2D at 0x2bfacd3ee48>]"
      ]
     },
     "execution_count": 7,
     "metadata": {},
     "output_type": "execute_result"
    },
    {
     "data": {
      "image/png": "[encoded data removed]",
      "text/plain": [
       "<Figure size 432x288 with 1 Axes>"
      ]
     },
     "metadata": {
      "needs_background": "light"
     },
     "output_type": "display_data"
    }
   ],
   "source": [
    "#Timeline of item cnt day\n",
    "ax2_=sales_training.groupby(['date_block_num'])['item_cnt_day'].sum()\n",
    "plt.xlabel('Time')\n",
    "plt.ylabel('Total sales')\n",
    "plt.plot(ax2_)"
   ]
  },
  {
   "cell_type": "code",
   "execution_count": 8,
   "metadata": {},
   "outputs": [
    {
     "data": {
      "text/plain": [
       "<matplotlib.axes._subplots.AxesSubplot at 0x2bfacd0c400>"
      ]
     },
     "execution_count": 8,
     "metadata": {},
     "output_type": "execute_result"
    },
    {
     "data": {
      "image/png": "[encoded data removed]",
      "text/plain": [
       "<Figure size 432x288 with 1 Axes>"
      ]
     },
     "metadata": {
      "needs_background": "light"
     },
     "output_type": "display_data"
    }
   ],
   "source": [
    "ax3=sales_training.groupby(['item_id'])['item_id'].count()\n",
    "sns.distplot(ax3)"
   ]
  },
  {
   "cell_type": "code",
   "execution_count": 9,
   "metadata": {},
   "outputs": [
    {
     "data": {
      "text/plain": [
       "(array([2.1599e+04, 1.5100e+02, 3.6000e+01, 1.3000e+01, 5.0000e+00,\n",
       "        1.0000e+00, 1.0000e+00, 0.0000e+00, 0.0000e+00, 0.0000e+00,\n",
       "        0.0000e+00, 0.0000e+00, 0.0000e+00, 0.0000e+00, 0.0000e+00,\n",
       "        0.0000e+00, 0.0000e+00, 0.0000e+00, 0.0000e+00, 1.0000e+00]),\n",
       " array([1.000000e+00, 1.567950e+03, 3.134900e+03, 4.701850e+03,\n",
       "        6.268800e+03, 7.835750e+03, 9.402700e+03, 1.096965e+04,\n",
       "        1.253660e+04, 1.410355e+04, 1.567050e+04, 1.723745e+04,\n",
       "        1.880440e+04, 2.037135e+04, 2.193830e+04, 2.350525e+04,\n",
       "        2.507220e+04, 2.663915e+04, 2.820610e+04, 2.977305e+04,\n",
       "        3.134000e+04]),\n",
       " <a list of 20 Patch objects>)"
      ]
     },
     "execution_count": 9,
     "metadata": {},
     "output_type": "execute_result"
    },
    {
     "data": {
      "image/png": "[encoded data removed]",
      "text/plain": [
       "<Figure size 432x288 with 1 Axes>"
      ]
     },
     "metadata": {
      "needs_background": "light"
     },
     "output_type": "display_data"
    }
   ],
   "source": [
    "plt.hist(ax3,20)"
   ]
  },
  {
   "cell_type": "code",
   "execution_count": 10,
   "metadata": {},
   "outputs": [
    {
     "data": {
      "text/plain": [
       "<matplotlib.axes._subplots.AxesSubplot at 0x2bfacf526d8>"
      ]
     },
     "execution_count": 10,
     "metadata": {},
     "output_type": "execute_result"
    },
    {
     "data": {
      "image/png": "[encoded data removed]",
      "text/plain": [
       "<Figure size 432x288 with 2 Axes>"
      ]
     },
     "metadata": {
      "needs_background": "light"
     },
     "output_type": "display_data"
    }
   ],
   "source": [
    "corr_coef=sales_training.corr(method='pearson')\n",
    "sns.heatmap(corr_coef,annot=True)"
   ]
  },
  {
   "cell_type": "code",
   "execution_count": 11,
   "metadata": {},
   "outputs": [
    {
     "name": "stdout",
     "output_type": "stream",
     "text": [
      "       date_block_num       shop_id       item_id    item_price  item_cnt_day\n",
      "count    2.935849e+06  2.935849e+06  2.935849e+06  2.935849e+06  2.935849e+06\n",
      "mean     1.456991e+01  3.300173e+01  1.019723e+04  8.908532e+02  1.242641e+00\n",
      "std      9.422988e+00  1.622697e+01  6.324297e+03  1.729800e+03  2.618834e+00\n",
      "min      0.000000e+00  0.000000e+00  0.000000e+00 -1.000000e+00 -2.200000e+01\n",
      "25%      7.000000e+00  2.200000e+01  4.476000e+03  2.490000e+02  1.000000e+00\n",
      "50%      1.400000e+01  3.100000e+01  9.343000e+03  3.990000e+02  1.000000e+00\n",
      "75%      2.300000e+01  4.700000e+01  1.568400e+04  9.990000e+02  1.000000e+00\n",
      "max      3.300000e+01  5.900000e+01  2.216900e+04  3.079800e+05  2.169000e+03 \n",
      "_________________\n",
      "            item_id  item_category_id\n",
      "count  22170.00000      22170.000000\n",
      "mean   11084.50000         46.290753\n",
      "std     6400.07207         15.941486\n",
      "min        0.00000          0.000000\n",
      "25%     5542.25000         37.000000\n",
      "50%    11084.50000         40.000000\n",
      "75%    16626.75000         58.000000\n",
      "max    22169.00000         83.000000 \n",
      "_________________\n",
      "\n"
     ]
    }
   ],
   "source": [
    "print(sales_training.describe(),line,items.describe(),line)"
   ]
  },
  {
   "cell_type": "markdown",
   "metadata": {},
   "source": [
    "# Data treatment"
   ]
  },
  {
   "cell_type": "markdown",
   "metadata": {},
   "source": [
    "We clean the data, in this part we change some names of some variables like items, categories and training set"
   ]
  },
  {
   "cell_type": "code",
   "execution_count": 12,
   "metadata": {},
   "outputs": [
    {
     "data": {
      "text/html": [
       "<div>\n",
       "<style scoped>\n",
       "    .dataframe tbody tr th:only-of-type {\n",
       "        vertical-align: middle;\n",
       "    }\n",
       "\n",
       "    .dataframe tbody tr th {\n",
       "        vertical-align: top;\n",
       "    }\n",
       "\n",
       "    .dataframe thead th {\n",
       "        text-align: right;\n",
       "    }\n",
       "</style>\n",
       "<table border=\"1\" class=\"dataframe\">\n",
       "  <thead>\n",
       "    <tr style=\"text-align: right;\">\n",
       "      <th></th>\n",
       "      <th>item_id</th>\n",
       "      <th>item_category_id</th>\n",
       "      <th>feature3</th>\n",
       "      <th>feature2</th>\n",
       "    </tr>\n",
       "  </thead>\n",
       "  <tbody>\n",
       "    <tr>\n",
       "      <th>0</th>\n",
       "      <td>0</td>\n",
       "      <td>40</td>\n",
       "      <td>1375</td>\n",
       "      <td>5</td>\n",
       "    </tr>\n",
       "    <tr>\n",
       "      <th>1</th>\n",
       "      <td>1</td>\n",
       "      <td>76</td>\n",
       "      <td>42</td>\n",
       "      <td>48</td>\n",
       "    </tr>\n",
       "    <tr>\n",
       "      <th>2</th>\n",
       "      <td>2</td>\n",
       "      <td>40</td>\n",
       "      <td>1042</td>\n",
       "      <td>5</td>\n",
       "    </tr>\n",
       "    <tr>\n",
       "      <th>3</th>\n",
       "      <td>3</td>\n",
       "      <td>40</td>\n",
       "      <td>1041</td>\n",
       "      <td>5</td>\n",
       "    </tr>\n",
       "    <tr>\n",
       "      <th>4</th>\n",
       "      <td>4</td>\n",
       "      <td>40</td>\n",
       "      <td>1625</td>\n",
       "      <td>5</td>\n",
       "    </tr>\n",
       "  </tbody>\n",
       "</table>\n",
       "</div>"
      ],
      "text/plain": [
       "   item_id  item_category_id  feature3  feature2\n",
       "0        0                40      1375         5\n",
       "1        1                76        42        48\n",
       "2        2                40      1042         5\n",
       "3        3                40      1041         5\n",
       "4        4                40      1625         5"
      ]
     },
     "execution_count": 12,
     "metadata": {},
     "output_type": "execute_result"
    }
   ],
   "source": [
    "items['feature1'],items['feature3']=items.item_name.str.split('(',1).str\n",
    "items['feature1'],items['feature2']=items.item_name.str.split('[',1).str\n",
    "\n",
    "items=use_replace(items,'feature2')\n",
    "items=use_replace(items,'feature3')\n",
    "\n",
    "items=items.fillna('0')\n",
    "\n",
    "items['item_name']=items['item_name'].apply(lambda x:n_c(x))\n",
    "\n",
    "items.feature2=items.feature2.apply(lambda x:x[:-1] if x !='0' else '0')\n",
    "\n",
    "items[\"type\"] = items.feature2.apply(lambda x: x[0:8] if x.split(\" \")[0] == \"xbox\" else x.split(\" \")[0] )\n",
    "items.loc[(items.type == \"x360\") | (items.type == \"xbox360\") | (items.type == \"xbox 360\") ,\"type\"] = \"xbox 360\"\n",
    "items.loc[ items.type == \"\", \"type\"] = \"mac\"\n",
    "items.type = items.type.apply( lambda x: x.replace(\" \", \"\") )\n",
    "items.loc[ (items.type == 'pc' )| (items.type == 'pс') | (items.type == \"pc\"), \"type\" ] = \"pc\"\n",
    "items.loc[ items.type == 'рs3' , \"type\"] = \"ps3\"\n",
    "\n",
    "group_sum = items.groupby([\"type\"]).agg({\"item_id\": \"count\"})\n",
    "group_sum = group_sum.reset_index()\n",
    "drop_cols = []\n",
    "for cat in group_sum.type.unique():\n",
    "    if group_sum.loc[(group_sum.type == cat), \"item_id\"].values[0] <40:\n",
    "        drop_cols.append(cat)\n",
    "items.feature2 = items.feature2.apply( lambda x: \"other\" if (x in drop_cols) else x )\n",
    "items = items.drop([\"type\"], axis = 1)\n",
    "\n",
    "items.feature2 = preprocessing.LabelEncoder().fit_transform(items.feature2)\n",
    "items.feature3 = preprocessing.LabelEncoder().fit_transform(items.feature3)\n",
    "\n",
    "items.drop([\"item_name\", \"feature1\"],axis = 1, inplace= True)\n",
    "\n",
    "items.head()\n"
   ]
  },
  {
   "cell_type": "code",
   "execution_count": 13,
   "metadata": {},
   "outputs": [],
   "source": [
    "max_item=300000 \n",
    "max_cnt=1000\n",
    "sales_training=sales_training[(sales_training.item_price<max_item)&(sales_training.item_cnt_day<max_cnt)]\n",
    "sales_training=sales_training[sales_training.item_price>0].reset_index(drop=True)\n",
    "sales_training.loc[sales_training.item_cnt_day<1,\"item_cnt_day\"]=0\n",
    "sales_training.date=sales_training.date.apply(lambda x:datetime.datetime.strptime(x, '%d.%m.%Y'))\n",
    "sales_training=cleaning(sales_training)\n",
    "sales_testing=cleaning(sales_testing)"
   ]
  },
  {
   "cell_type": "code",
   "execution_count": 14,
   "metadata": {},
   "outputs": [],
   "source": [
    "\n",
    "shops.loc[ shops.shop_name == 'Сергиев Посад ТЦ \"7Я\"',\"shop_name\" ] = 'СергиевПосад ТЦ \"7Я\"'\n",
    "shops[\"city\"] = shops.shop_name.str.split(\" \").map( lambda x: x[0] )\n",
    "shops[\"category\"] = shops.shop_name.str.split(\" \").map( lambda x: x[1] )\n",
    "shops.loc[shops.city == \"!Якутск\", \"city\"] = \"Якутск\"\n",
    "category = []\n",
    "\n",
    "for cat in shops.category.unique():\n",
    "    if len(shops[shops.category==cat])>=5:\n",
    "        category.append(cat)\n",
    "        \n",
    "shops.category=shops.category.apply(lambda x:x if (x in category)else \"ect\")\n",
    "shops[\"shop_city\"]=preprocessing.LabelEncoder().fit_transform(shops.city)\n",
    "shops[\"shop_category\"]=preprocessing.LabelEncoder().fit_transform(shops.category)\n",
    "shops=shops[[\"shop_id\",\"shop_category\",\"shop_city\"]]"
   ]
  },
  {
   "cell_type": "code",
   "execution_count": 15,
   "metadata": {},
   "outputs": [],
   "source": [
    "#We transform the categories\n",
    "categories[\"type_code\"]=categories.item_category_name.apply(lambda x:x.split(\" \")[0]).astype(str)\n",
    "categories.loc[(categories.type_code==\"Игровые\")|(categories.type_code==\"Аксессуары\"),\"category\"]=\"Игры\"\n",
    "categorie_using=[]\n",
    "\n",
    "for cat in categories.type_code.unique():\n",
    "    if len(categories[categories.type_code==cat])>=5:\n",
    "        categorie_using.append(cat)\n",
    "\n",
    "categories.type_code=categories.type_code.apply(lambda x:x if (x in categorie_using) else \"ect\")\n",
    "categories.type_code=preprocessing.LabelEncoder().fit_transform(categories.type_code)\n",
    "categories[\"split\"]=categories.item_category_name.apply(lambda x:x.split(\"-\"))\n",
    "categories[\"subtype\"]=categories.split.apply(lambda x:x[1].strip() if len(x)>1else x[0].strip())\n",
    "categories[\"subtype_code\"]=preprocessing.LabelEncoder().fit_transform(categories[\"subtype\"])\n",
    "categories=categories[[\"item_category_id\",\"subtype_code\",\"type_code\"]]"
   ]
  },
  {
   "cell_type": "markdown",
   "metadata": {},
   "source": [
    "We started with the data procesing, We make all possible combinations"
   ]
  },
  {
   "cell_type": "code",
   "execution_count": 16,
   "metadata": {},
   "outputs": [],
   "source": [
    "list_sales=list()\n",
    "for i in range(34):\n",
    "    sales=sales_training[sales_training.date_block_num==i]\n",
    "    list_sales.append(np.array(list(product([i],sales.shop_id.unique(),sales.item_id.unique())),dtype=np.int16))\n",
    "list_sales=pd.DataFrame(np.vstack(list_sales),columns=['date_block_num','shop_id','item_id'])\n",
    "list_sales[\"date_block_num\"]=list_sales[\"date_block_num\"].astype(np.int8)\n",
    "list_sales[\"shop_id\"]=list_sales[\"shop_id\"].astype(np.int8)\n",
    "list_sales[\"item_id\"]=list_sales[\"item_id\"].astype(np.int16)\n",
    "list_sales.sort_values([\"date_block_num\",\"shop_id\",\"item_id\"],inplace=True)"
   ]
  },
  {
   "cell_type": "markdown",
   "metadata": {},
   "source": [
    "We group the date block numbers, shop ID and item ID"
   ]
  },
  {
   "cell_type": "code",
   "execution_count": 17,
   "metadata": {},
   "outputs": [],
   "source": [
    "sales_training['revenue']=sales_training['item_cnt_day']*sales_training['item_price']\n",
    "#With max\n",
    "#sales_training_group=sales_training.groupby(['date_block_num','shop_id','item_id']).agg({'item_cnt_day':'sum','item_price':'max'})\n",
    "#Without max\n",
    "sales_training_group=sales_training.groupby(['date_block_num','shop_id','item_id']).agg({'item_cnt_day':'sum'})\n",
    "sales_training_group.rename(columns={'item_cnt_day':'item_cnt_month','item_price':'max_item_price'},inplace=True)\n",
    "sales_training_group.reset_index(inplace=True)\n",
    "list_sales=pd.merge(list_sales,sales_training_group,on=[\"date_block_num\", \"shop_id\", \"item_id\"],how='left')\n",
    "list_sales['item_cnt_month']=list_sales['item_cnt_month'].fillna(0).astype(np.float16)"
   ]
  },
  {
   "cell_type": "code",
   "execution_count": 18,
   "metadata": {},
   "outputs": [
    {
     "data": {
      "text/html": [
       "<div>\n",
       "<style scoped>\n",
       "    .dataframe tbody tr th:only-of-type {\n",
       "        vertical-align: middle;\n",
       "    }\n",
       "\n",
       "    .dataframe tbody tr th {\n",
       "        vertical-align: top;\n",
       "    }\n",
       "\n",
       "    .dataframe thead th {\n",
       "        text-align: right;\n",
       "    }\n",
       "</style>\n",
       "<table border=\"1\" class=\"dataframe\">\n",
       "  <thead>\n",
       "    <tr style=\"text-align: right;\">\n",
       "      <th></th>\n",
       "      <th>date_block_num</th>\n",
       "      <th>shop_id</th>\n",
       "      <th>item_id</th>\n",
       "      <th>item_cnt_month</th>\n",
       "    </tr>\n",
       "  </thead>\n",
       "  <tbody>\n",
       "    <tr>\n",
       "      <th>0</th>\n",
       "      <td>0</td>\n",
       "      <td>2</td>\n",
       "      <td>19</td>\n",
       "      <td>0.0</td>\n",
       "    </tr>\n",
       "    <tr>\n",
       "      <th>1</th>\n",
       "      <td>0</td>\n",
       "      <td>2</td>\n",
       "      <td>27</td>\n",
       "      <td>1.0</td>\n",
       "    </tr>\n",
       "    <tr>\n",
       "      <th>2</th>\n",
       "      <td>0</td>\n",
       "      <td>2</td>\n",
       "      <td>28</td>\n",
       "      <td>0.0</td>\n",
       "    </tr>\n",
       "    <tr>\n",
       "      <th>3</th>\n",
       "      <td>0</td>\n",
       "      <td>2</td>\n",
       "      <td>29</td>\n",
       "      <td>0.0</td>\n",
       "    </tr>\n",
       "    <tr>\n",
       "      <th>4</th>\n",
       "      <td>0</td>\n",
       "      <td>2</td>\n",
       "      <td>32</td>\n",
       "      <td>0.0</td>\n",
       "    </tr>\n",
       "  </tbody>\n",
       "</table>\n",
       "</div>"
      ],
      "text/plain": [
       "   date_block_num  shop_id  item_id  item_cnt_month\n",
       "0               0        2       19             0.0\n",
       "1               0        2       27             1.0\n",
       "2               0        2       28             0.0\n",
       "3               0        2       29             0.0\n",
       "4               0        2       32             0.0"
      ]
     },
     "execution_count": 18,
     "metadata": {},
     "output_type": "execute_result"
    }
   ],
   "source": [
    "list_sales.head()"
   ]
  },
  {
   "cell_type": "markdown",
   "metadata": {},
   "source": [
    "Define the times of some variables"
   ]
  },
  {
   "cell_type": "code",
   "execution_count": 36,
   "metadata": {},
   "outputs": [
    {
     "ename": "NameError",
     "evalue": "name 'list_sales' is not defined",
     "output_type": "error",
     "traceback": [
      "\u001b[1;31m---------------------------------------------------------------------------\u001b[0m",
      "\u001b[1;31mNameError\u001b[0m                                 Traceback (most recent call last)",
      "\u001b[1;32m<ipython-input-36-3e4741796d5a>\u001b[0m in \u001b[0;36m<module>\u001b[1;34m\u001b[0m\n\u001b[0;32m      4\u001b[0m \u001b[0msales_testing\u001b[0m\u001b[1;33m[\u001b[0m\u001b[1;34m'item_id'\u001b[0m\u001b[1;33m]\u001b[0m\u001b[1;33m=\u001b[0m\u001b[0msales_testing\u001b[0m\u001b[1;33m.\u001b[0m\u001b[0mitem_id\u001b[0m\u001b[1;33m.\u001b[0m\u001b[0mastype\u001b[0m\u001b[1;33m(\u001b[0m\u001b[0mnp\u001b[0m\u001b[1;33m.\u001b[0m\u001b[0mint16\u001b[0m\u001b[1;33m)\u001b[0m\u001b[1;33m\u001b[0m\u001b[1;33m\u001b[0m\u001b[0m\n\u001b[0;32m      5\u001b[0m \u001b[0msales_testing\u001b[0m\u001b[1;33m.\u001b[0m\u001b[0mhead\u001b[0m\u001b[1;33m(\u001b[0m\u001b[1;33m)\u001b[0m\u001b[1;33m\u001b[0m\u001b[1;33m\u001b[0m\u001b[0m\n\u001b[1;32m----> 6\u001b[1;33m \u001b[0mlist_sales\u001b[0m\u001b[1;33m=\u001b[0m\u001b[0mpd\u001b[0m\u001b[1;33m.\u001b[0m\u001b[0mconcat\u001b[0m\u001b[1;33m(\u001b[0m\u001b[1;33m[\u001b[0m\u001b[0mlist_sales\u001b[0m\u001b[1;33m,\u001b[0m\u001b[0msales_testing\u001b[0m\u001b[1;33m.\u001b[0m\u001b[0mdrop\u001b[0m\u001b[1;33m(\u001b[0m\u001b[1;33m[\u001b[0m\u001b[1;34m'ID'\u001b[0m\u001b[1;33m]\u001b[0m\u001b[1;33m,\u001b[0m\u001b[0maxis\u001b[0m\u001b[1;33m=\u001b[0m\u001b[1;36m1\u001b[0m\u001b[1;33m)\u001b[0m\u001b[1;33m]\u001b[0m\u001b[1;33m,\u001b[0m\u001b[0mignore_index\u001b[0m\u001b[1;33m=\u001b[0m\u001b[1;32mTrue\u001b[0m\u001b[1;33m,\u001b[0m\u001b[0msort\u001b[0m\u001b[1;33m=\u001b[0m\u001b[1;32mFalse\u001b[0m\u001b[1;33m,\u001b[0m\u001b[0mkeys\u001b[0m\u001b[1;33m=\u001b[0m\u001b[1;33m[\u001b[0m\u001b[1;34m\"date_block_num\"\u001b[0m\u001b[1;33m,\u001b[0m \u001b[1;34m\"shop_id\"\u001b[0m\u001b[1;33m,\u001b[0m \u001b[1;34m\"item_id\"\u001b[0m\u001b[1;33m]\u001b[0m\u001b[1;33m)\u001b[0m\u001b[1;33m\u001b[0m\u001b[1;33m\u001b[0m\u001b[0m\n\u001b[0m\u001b[0;32m      7\u001b[0m \u001b[0mlist_sales\u001b[0m\u001b[1;33m.\u001b[0m\u001b[0mfillna\u001b[0m\u001b[1;33m(\u001b[0m\u001b[1;36m0\u001b[0m\u001b[1;33m,\u001b[0m\u001b[0minplace\u001b[0m\u001b[1;33m=\u001b[0m\u001b[1;32mTrue\u001b[0m\u001b[1;33m)\u001b[0m\u001b[1;33m\u001b[0m\u001b[1;33m\u001b[0m\u001b[0m\n\u001b[0;32m      8\u001b[0m \u001b[0mlist_sales\u001b[0m\u001b[1;33m=\u001b[0m\u001b[0mpd\u001b[0m\u001b[1;33m.\u001b[0m\u001b[0mmerge\u001b[0m\u001b[1;33m(\u001b[0m\u001b[0mlist_sales\u001b[0m\u001b[1;33m,\u001b[0m\u001b[0mshops\u001b[0m\u001b[1;33m,\u001b[0m\u001b[0mon\u001b[0m\u001b[1;33m=\u001b[0m\u001b[1;33m[\u001b[0m\u001b[1;34m'shop_id'\u001b[0m\u001b[1;33m]\u001b[0m\u001b[1;33m,\u001b[0m\u001b[0mhow\u001b[0m\u001b[1;33m=\u001b[0m\u001b[1;34m'left'\u001b[0m\u001b[1;33m)\u001b[0m\u001b[1;33m\u001b[0m\u001b[1;33m\u001b[0m\u001b[0m\n",
      "\u001b[1;31mNameError\u001b[0m: name 'list_sales' is not defined"
     ]
    }
   ],
   "source": [
    "sales_testing['date_block_num']=34\n",
    "sales_testing['date_block_num']=sales_testing['date_block_num'].astype(np.int8)\n",
    "sales_testing['shop_id']=sales_testing.shop_id.astype(np.int16)\n",
    "sales_testing['item_id']=sales_testing.item_id.astype(np.int16)\n",
    "sales_testing.head()\n",
    "list_sales=pd.concat([list_sales,sales_testing.drop(['ID'],axis=1)],ignore_index=True,sort=False,keys=[\"date_block_num\", \"shop_id\", \"item_id\"])\n",
    "list_sales.fillna(0,inplace=True)\n",
    "list_sales=pd.merge(list_sales,shops,on=['shop_id'],how='left')\n",
    "list_sales=pd.merge(list_sales,items,on=['item_id'],how='left')\n",
    "list_sales=pd.merge(list_sales,categories,on=['item_category_id'],how='left')\n",
    "list_sales.head()"
   ]
  },
  {
   "cell_type": "code",
   "execution_count": 20,
   "metadata": {},
   "outputs": [
    {
     "data": {
      "text/html": [
       "<div>\n",
       "<style scoped>\n",
       "    .dataframe tbody tr th:only-of-type {\n",
       "        vertical-align: middle;\n",
       "    }\n",
       "\n",
       "    .dataframe tbody tr th {\n",
       "        vertical-align: top;\n",
       "    }\n",
       "\n",
       "    .dataframe thead th {\n",
       "        text-align: right;\n",
       "    }\n",
       "</style>\n",
       "<table border=\"1\" class=\"dataframe\">\n",
       "  <thead>\n",
       "    <tr style=\"text-align: right;\">\n",
       "      <th></th>\n",
       "      <th>date_block_num</th>\n",
       "      <th>shop_id</th>\n",
       "      <th>item_id</th>\n",
       "      <th>item_cnt_month</th>\n",
       "      <th>shop_category</th>\n",
       "      <th>shop_city</th>\n",
       "      <th>item_category_id</th>\n",
       "      <th>feature3</th>\n",
       "      <th>feature2</th>\n",
       "      <th>subtype_code</th>\n",
       "      <th>type_code</th>\n",
       "    </tr>\n",
       "  </thead>\n",
       "  <tbody>\n",
       "    <tr>\n",
       "      <th>0</th>\n",
       "      <td>0</td>\n",
       "      <td>2</td>\n",
       "      <td>19</td>\n",
       "      <td>0.0</td>\n",
       "      <td>4</td>\n",
       "      <td>0</td>\n",
       "      <td>40</td>\n",
       "      <td>42</td>\n",
       "      <td>5</td>\n",
       "      <td>4</td>\n",
       "      <td>5</td>\n",
       "    </tr>\n",
       "    <tr>\n",
       "      <th>1</th>\n",
       "      <td>0</td>\n",
       "      <td>2</td>\n",
       "      <td>27</td>\n",
       "      <td>1.0</td>\n",
       "      <td>4</td>\n",
       "      <td>0</td>\n",
       "      <td>19</td>\n",
       "      <td>42</td>\n",
       "      <td>65</td>\n",
       "      <td>10</td>\n",
       "      <td>3</td>\n",
       "    </tr>\n",
       "    <tr>\n",
       "      <th>2</th>\n",
       "      <td>0</td>\n",
       "      <td>2</td>\n",
       "      <td>28</td>\n",
       "      <td>0.0</td>\n",
       "      <td>4</td>\n",
       "      <td>0</td>\n",
       "      <td>30</td>\n",
       "      <td>42</td>\n",
       "      <td>95</td>\n",
       "      <td>55</td>\n",
       "      <td>3</td>\n",
       "    </tr>\n",
       "    <tr>\n",
       "      <th>3</th>\n",
       "      <td>0</td>\n",
       "      <td>2</td>\n",
       "      <td>29</td>\n",
       "      <td>0.0</td>\n",
       "      <td>4</td>\n",
       "      <td>0</td>\n",
       "      <td>23</td>\n",
       "      <td>42</td>\n",
       "      <td>108</td>\n",
       "      <td>16</td>\n",
       "      <td>3</td>\n",
       "    </tr>\n",
       "    <tr>\n",
       "      <th>4</th>\n",
       "      <td>0</td>\n",
       "      <td>2</td>\n",
       "      <td>32</td>\n",
       "      <td>0.0</td>\n",
       "      <td>4</td>\n",
       "      <td>0</td>\n",
       "      <td>40</td>\n",
       "      <td>42</td>\n",
       "      <td>5</td>\n",
       "      <td>4</td>\n",
       "      <td>5</td>\n",
       "    </tr>\n",
       "  </tbody>\n",
       "</table>\n",
       "</div>"
      ],
      "text/plain": [
       "   date_block_num  shop_id  item_id  item_cnt_month  shop_category  shop_city  \\\n",
       "0               0        2       19             0.0              4          0   \n",
       "1               0        2       27             1.0              4          0   \n",
       "2               0        2       28             0.0              4          0   \n",
       "3               0        2       29             0.0              4          0   \n",
       "4               0        2       32             0.0              4          0   \n",
       "\n",
       "   item_category_id  feature3  feature2  subtype_code  type_code  \n",
       "0                40        42         5             4          5  \n",
       "1                19        42        65            10          3  \n",
       "2                30        42        95            55          3  \n",
       "3                23        42       108            16          3  \n",
       "4                40        42         5             4          5  "
      ]
     },
     "execution_count": 20,
     "metadata": {},
     "output_type": "execute_result"
    }
   ],
   "source": [
    "featuresUsing=['shop_city','shop_category','item_category_id','subtype_code',\n",
    "              'feature2','feature3','type_code']\n",
    "intUse=[8,8,8,8,8,16,8]\n",
    "for i in range(len(intUse)-1):\n",
    "    list_sales=featureador(list_sales,featuresUsing[i],intUse[i])\n",
    "list_sales.head()"
   ]
  },
  {
   "cell_type": "markdown",
   "metadata": {},
   "source": [
    "We group by Columns, we use the function Work_features, that was defined in the first line"
   ]
  },
  {
   "cell_type": "code",
   "execution_count": 21,
   "metadata": {},
   "outputs": [
    {
     "name": "stdout",
     "output_type": "stream",
     "text": [
      "0\n",
      "mean_item_cnt_4date\n",
      "1\n",
      "mean_item_cnt_4item\n",
      "2\n",
      "mean_item_cnt_4shop\n",
      "3\n",
      "mean_item_cnt_4shop_item\n",
      "4\n",
      "mean_item_cnt_4subtype\n",
      "5\n",
      "mean_item_cnt_4city\n",
      "6\n",
      "mean_item_cnt_4city_item\n"
     ]
    }
   ],
   "source": [
    "columns=[['date_block_num'],\n",
    "         ['date_block_num','item_id'],\n",
    "         ['date_block_num','shop_id'],\n",
    "         [\"date_block_num\",\"shop_id\",\"item_id\"],\n",
    "         ['date_block_num', 'shop_id', 'subtype_code'],\n",
    "         ['date_block_num', 'shop_city'],\n",
    "         ['date_block_num', 'item_id', 'shop_city']]\n",
    "x_list=[[1],\n",
    "        [1,2,3],\n",
    "        [1,2,3],\n",
    "        [1,2,3],\n",
    "        [1],\n",
    "        [1],\n",
    "        [1]]\n",
    "names_colTemp=[['mean_item_cnt_4date'],\n",
    "               ['mean_item_cnt_4item'],\n",
    "               ['mean_item_cnt_4shop'],\n",
    "               ['mean_item_cnt_4shop_item'],\n",
    "               ['mean_item_cnt_4subtype'],\n",
    "               ['mean_item_cnt_4city'],\n",
    "               ['mean_item_cnt_4city_item']]\n",
    "for i in range(len(x_list)):\n",
    "    print(i)\n",
    "    list_sales=work_features(list_sales,columns[i],x_list[i],names_colTemp[i])"
   ]
  },
  {
   "cell_type": "code",
   "execution_count": 22,
   "metadata": {},
   "outputs": [
    {
     "name": "stdout",
     "output_type": "stream",
     "text": [
      "date_item_avg_item_price\n"
     ]
    }
   ],
   "source": [
    "group = sales_training.groupby( [\"item_id\"] ).agg({\"item_price\": [\"mean\"]})\n",
    "group.columns = [\"item_avg_item_price\"]\n",
    "group.reset_index(inplace = True)\n",
    "\n",
    "list_sales = list_sales.merge( group, on = [\"item_id\"], how = \"left\" )\n",
    "list_sales[\"item_avg_item_price\"] = list_sales.item_avg_item_price.astype(np.float16)\n",
    "\n",
    "\n",
    "group = sales_training.groupby( [\"date_block_num\",\"item_id\"] ).agg( {\"item_price\": [\"mean\"]} )\n",
    "group.columns = [\"date_item_avg_item_price\"]\n",
    "group.reset_index(inplace = True)\n",
    "\n",
    "list_sales = list_sales.merge(group, on = [\"date_block_num\",\"item_id\"], how = \"left\")\n",
    "list_sales[\"date_item_avg_item_price\"] = list_sales.date_item_avg_item_price.astype(np.float16)\n",
    "x_list = [1, 2, 3]\n",
    "list_sales = feature_us( list_sales, x_list, [\"date_item_avg_item_price\"] )\n",
    "for i in x_list:\n",
    "    list_sales[\"delta_price_lag_\" + str(i) ] = (list_sales[\"date_item_avg_item_price_lag_\" + str(i)]- list_sales[\"item_avg_item_price\"] )/ list_sales[\"item_avg_item_price\"]\n",
    "\n",
    "list_sales[\"delta_price_lag\"] = list_sales.apply(s_using, axis = 1)\n",
    "list_sales[\"delta_price_lag\"] = list_sales.delta_price_lag.astype( np.float16 )\n",
    "list_sales[\"delta_price_lag\"].fillna( 0 ,inplace = True)\n",
    "\n",
    "features_to_drop = [\"item_avg_item_price\", \"date_item_avg_item_price\"]\n",
    "for i in x_list:\n",
    "    features_to_drop.append(\"date_item_avg_item_price_lag_\" + str(i) )\n",
    "    features_to_drop.append(\"delta_price_lag_\" + str(i) )\n",
    "list_sales.drop(features_to_drop, axis = 1, inplace = True)\n"
   ]
  },
  {
   "cell_type": "code",
   "execution_count": 23,
   "metadata": {},
   "outputs": [
    {
     "name": "stdout",
     "output_type": "stream",
     "text": [
      "delta_revenue\n"
     ]
    },
    {
     "data": {
      "text/html": [
       "<div>\n",
       "<style scoped>\n",
       "    .dataframe tbody tr th:only-of-type {\n",
       "        vertical-align: middle;\n",
       "    }\n",
       "\n",
       "    .dataframe tbody tr th {\n",
       "        vertical-align: top;\n",
       "    }\n",
       "\n",
       "    .dataframe thead th {\n",
       "        text-align: right;\n",
       "    }\n",
       "</style>\n",
       "<table border=\"1\" class=\"dataframe\">\n",
       "  <thead>\n",
       "    <tr style=\"text-align: right;\">\n",
       "      <th></th>\n",
       "      <th>date_block_num</th>\n",
       "      <th>shop_id</th>\n",
       "      <th>item_id</th>\n",
       "      <th>item_cnt_month</th>\n",
       "      <th>shop_category</th>\n",
       "      <th>shop_city</th>\n",
       "      <th>item_category_id</th>\n",
       "      <th>feature3</th>\n",
       "      <th>feature2</th>\n",
       "      <th>subtype_code</th>\n",
       "      <th>...</th>\n",
       "      <th>mean_item_cnt_4shop_item_lag_3</th>\n",
       "      <th>mean_item_cnt_4subtype_lag_1</th>\n",
       "      <th>mean_item_cnt_4city_lag_1</th>\n",
       "      <th>mean_item_cnt_4city_item_lag_1</th>\n",
       "      <th>delta_price_lag</th>\n",
       "      <th>delta_revenue_lag_1</th>\n",
       "      <th>month</th>\n",
       "      <th>days</th>\n",
       "      <th>item_shop_first_sale</th>\n",
       "      <th>item_first_sale</th>\n",
       "    </tr>\n",
       "  </thead>\n",
       "  <tbody>\n",
       "    <tr>\n",
       "      <th>1497465</th>\n",
       "      <td>4</td>\n",
       "      <td>2</td>\n",
       "      <td>27</td>\n",
       "      <td>0.0</td>\n",
       "      <td>4</td>\n",
       "      <td>0</td>\n",
       "      <td>19</td>\n",
       "      <td>42</td>\n",
       "      <td>65</td>\n",
       "      <td>10</td>\n",
       "      <td>...</td>\n",
       "      <td>0.0</td>\n",
       "      <td>0.449463</td>\n",
       "      <td>0.071838</td>\n",
       "      <td>0.0</td>\n",
       "      <td>0.367676</td>\n",
       "      <td>37326.816406</td>\n",
       "      <td>4</td>\n",
       "      <td>31</td>\n",
       "      <td>4</td>\n",
       "      <td>4</td>\n",
       "    </tr>\n",
       "    <tr>\n",
       "      <th>1497466</th>\n",
       "      <td>4</td>\n",
       "      <td>2</td>\n",
       "      <td>28</td>\n",
       "      <td>0.0</td>\n",
       "      <td>4</td>\n",
       "      <td>0</td>\n",
       "      <td>30</td>\n",
       "      <td>42</td>\n",
       "      <td>95</td>\n",
       "      <td>55</td>\n",
       "      <td>...</td>\n",
       "      <td>0.0</td>\n",
       "      <td>0.387207</td>\n",
       "      <td>0.071838</td>\n",
       "      <td>0.0</td>\n",
       "      <td>0.256348</td>\n",
       "      <td>37326.816406</td>\n",
       "      <td>4</td>\n",
       "      <td>31</td>\n",
       "      <td>4</td>\n",
       "      <td>4</td>\n",
       "    </tr>\n",
       "    <tr>\n",
       "      <th>1497467</th>\n",
       "      <td>4</td>\n",
       "      <td>2</td>\n",
       "      <td>29</td>\n",
       "      <td>0.0</td>\n",
       "      <td>4</td>\n",
       "      <td>0</td>\n",
       "      <td>23</td>\n",
       "      <td>42</td>\n",
       "      <td>108</td>\n",
       "      <td>16</td>\n",
       "      <td>...</td>\n",
       "      <td>NaN</td>\n",
       "      <td>NaN</td>\n",
       "      <td>NaN</td>\n",
       "      <td>NaN</td>\n",
       "      <td>0.000000</td>\n",
       "      <td>NaN</td>\n",
       "      <td>4</td>\n",
       "      <td>31</td>\n",
       "      <td>4</td>\n",
       "      <td>4</td>\n",
       "    </tr>\n",
       "    <tr>\n",
       "      <th>1497468</th>\n",
       "      <td>4</td>\n",
       "      <td>2</td>\n",
       "      <td>30</td>\n",
       "      <td>0.0</td>\n",
       "      <td>4</td>\n",
       "      <td>0</td>\n",
       "      <td>40</td>\n",
       "      <td>42</td>\n",
       "      <td>5</td>\n",
       "      <td>4</td>\n",
       "      <td>...</td>\n",
       "      <td>0.0</td>\n",
       "      <td>0.018585</td>\n",
       "      <td>0.071838</td>\n",
       "      <td>0.0</td>\n",
       "      <td>0.212402</td>\n",
       "      <td>37326.816406</td>\n",
       "      <td>4</td>\n",
       "      <td>31</td>\n",
       "      <td>3</td>\n",
       "      <td>3</td>\n",
       "    </tr>\n",
       "    <tr>\n",
       "      <th>1497469</th>\n",
       "      <td>4</td>\n",
       "      <td>2</td>\n",
       "      <td>31</td>\n",
       "      <td>0.0</td>\n",
       "      <td>4</td>\n",
       "      <td>0</td>\n",
       "      <td>37</td>\n",
       "      <td>581</td>\n",
       "      <td>5</td>\n",
       "      <td>1</td>\n",
       "      <td>...</td>\n",
       "      <td>4.0</td>\n",
       "      <td>0.035919</td>\n",
       "      <td>0.071838</td>\n",
       "      <td>1.0</td>\n",
       "      <td>0.191040</td>\n",
       "      <td>37326.816406</td>\n",
       "      <td>4</td>\n",
       "      <td>31</td>\n",
       "      <td>3</td>\n",
       "      <td>3</td>\n",
       "    </tr>\n",
       "  </tbody>\n",
       "</table>\n",
       "<p>5 rows × 30 columns</p>\n",
       "</div>"
      ],
      "text/plain": [
       "         date_block_num  shop_id  item_id  item_cnt_month  shop_category  \\\n",
       "1497465               4        2       27             0.0              4   \n",
       "1497466               4        2       28             0.0              4   \n",
       "1497467               4        2       29             0.0              4   \n",
       "1497468               4        2       30             0.0              4   \n",
       "1497469               4        2       31             0.0              4   \n",
       "\n",
       "         shop_city  item_category_id  feature3  feature2  subtype_code  ...  \\\n",
       "1497465          0                19        42        65            10  ...   \n",
       "1497466          0                30        42        95            55  ...   \n",
       "1497467          0                23        42       108            16  ...   \n",
       "1497468          0                40        42         5             4  ...   \n",
       "1497469          0                37       581         5             1  ...   \n",
       "\n",
       "         mean_item_cnt_4shop_item_lag_3  mean_item_cnt_4subtype_lag_1  \\\n",
       "1497465                             0.0                      0.449463   \n",
       "1497466                             0.0                      0.387207   \n",
       "1497467                             NaN                           NaN   \n",
       "1497468                             0.0                      0.018585   \n",
       "1497469                             4.0                      0.035919   \n",
       "\n",
       "         mean_item_cnt_4city_lag_1  mean_item_cnt_4city_item_lag_1  \\\n",
       "1497465                   0.071838                             0.0   \n",
       "1497466                   0.071838                             0.0   \n",
       "1497467                        NaN                             NaN   \n",
       "1497468                   0.071838                             0.0   \n",
       "1497469                   0.071838                             1.0   \n",
       "\n",
       "         delta_price_lag  delta_revenue_lag_1  month  days  \\\n",
       "1497465         0.367676         37326.816406      4    31   \n",
       "1497466         0.256348         37326.816406      4    31   \n",
       "1497467         0.000000                  NaN      4    31   \n",
       "1497468         0.212402         37326.816406      4    31   \n",
       "1497469         0.191040         37326.816406      4    31   \n",
       "\n",
       "         item_shop_first_sale  item_first_sale  \n",
       "1497465                     4                4  \n",
       "1497466                     4                4  \n",
       "1497467                     4                4  \n",
       "1497468                     3                3  \n",
       "1497469                     3                3  \n",
       "\n",
       "[5 rows x 30 columns]"
      ]
     },
     "execution_count": 23,
     "metadata": {},
     "output_type": "execute_result"
    }
   ],
   "source": [
    "columnsUsing=[ [\"date_block_num\",\"shop_id\"] , [\"item_id\",\"shop_id\"] ]\n",
    "group = sales_training.groupby(columnsUsing[0]).agg({\"revenue\": [\"sum\"] })\n",
    "group.columns = [\"date_shop_revenue\"]\n",
    "group.reset_index(inplace = True)\n",
    "list_sales = list_sales.merge( group , on = columnsUsing[0],how = \"left\" )\n",
    "list_sales['date_shop_revenue'] = list_sales['date_shop_revenue'].astype(np.float32)\n",
    "group = group.groupby([\"shop_id\"]).agg({ \"date_block_num\":[\"mean\"] })\n",
    "group.columns = [\"shop_avg_revenue\"]\n",
    "group.reset_index(inplace = True )\n",
    "list_sales = list_sales.merge( group, on = [\"shop_id\"], how = \"left\" )\n",
    "list_sales[\"shop_avg_revenue\"] = list_sales.shop_avg_revenue.astype(np.float32)\n",
    "list_sales[\"delta_revenue\"] = (list_sales['date_shop_revenue'] - list_sales['shop_avg_revenue']) / list_sales['shop_avg_revenue']\n",
    "list_sales[\"delta_revenue\"] = list_sales[\"delta_revenue\"]. astype(np.float32)\n",
    "list_sales = feature_us(list_sales, [1], [\"delta_revenue\"])\n",
    "list_sales[\"delta_revenue_lag_1\"] = list_sales[\"delta_revenue_lag_1\"].astype(np.float32)\n",
    "list_sales.drop( [\"date_shop_revenue\", \"shop_avg_revenue\", \"delta_revenue\"] ,axis = 1, inplace = True)\n",
    "list_sales[\"month\"] = list_sales[\"date_block_num\"] % 12\n",
    "days = pd.Series([31,28,31,30,31,30,31,31,30,31,30,31])\n",
    "list_sales[\"days\"] = list_sales[\"month\"].map(days).astype(np.int8)\n",
    "list_sales[\"item_shop_first_sale\"] = list_sales[\"date_block_num\"] - list_sales.groupby(columnsUsing[1])[\"date_block_num\"].transform('min')\n",
    "list_sales[\"item_first_sale\"] = list_sales[\"date_block_num\"] - list_sales.groupby([\"item_id\"])[\"date_block_num\"].transform('min')\n",
    "list_sales = list_sales[list_sales[\"date_block_num\"] > 3]\n",
    "list_sales.head()"
   ]
  },
  {
   "cell_type": "markdown",
   "metadata": {},
   "source": [
    "The monthCut you can change, is for defined the training, validation and test set"
   ]
  },
  {
   "cell_type": "code",
   "execution_count": null,
   "metadata": {},
   "outputs": [],
   "source": [
    "monthCut=33\n",
    "set_training=list_sales[list_sales['date_block_num']<monthCut].drop(['item_cnt_month'],axis=1)\n",
    "ans_training=list_sales[list_sales['date_block_num']<monthCut].item_cnt_month\n",
    "set_val=list_sales[list_sales['date_block_num']==monthCut].drop(['item_cnt_month'],axis=1)\n",
    "ans_val=list_sales[list_sales['date_block_num']==monthCut].item_cnt_month\n",
    "set_test=list_sales[list_sales['date_block_num']==monthCut+1].drop(['item_cnt_month'],axis=1)\n",
    "\n",
    "ans_training= ans_training.clip(0,20)\n",
    "ans_val=ans_val.clip(0,20)\n",
    "#print('X_train:',set_training.shape(),'\\nY_train:',ans_training.shape(),'\\nX_test:',set_val.shape(),'\\nY_test:',ans_val.shape())\n",
    "del list_sales\n",
    "gc.collect();\n"
   ]
  },
  {
   "cell_type": "markdown",
   "metadata": {},
   "source": [
    "# Model"
   ]
  },
  {
   "cell_type": "markdown",
   "metadata": {},
   "source": [
    "We make a model, we use XGBRegressor"
   ]
  },
  {
   "cell_type": "code",
   "execution_count": 34,
   "metadata": {},
   "outputs": [
    {
     "name": "stdout",
     "output_type": "stream",
     "text": [
      "The history saving thread hit an unexpected error (OperationalError('database or disk is full')).History will not be written to the database.\n"
     ]
    }
   ],
   "source": [
    "predict=XGBRegressor(\n",
    "    max_depth=10,\n",
    "    n_estimators=1000,\n",
    "    min_child_weight=0.5, \n",
    "    colsample_bytree=0.8, \n",
    "    subsample=0.8, \n",
    "    eta=0.1,\n",
    "    seed=12)"
   ]
  },
  {
   "cell_type": "code",
   "execution_count": 26,
   "metadata": {},
   "outputs": [
    {
     "name": "stdout",
     "output_type": "stream",
     "text": [
      "[0]\tvalidation_0-rmse:1.18298\tvalidation_1-rmse:1.11708\n",
      "[1]\tvalidation_0-rmse:1.12743\tvalidation_1-rmse:1.07804\n",
      "[2]\tvalidation_0-rmse:1.08442\tvalidation_1-rmse:1.04513\n",
      "[3]\tvalidation_0-rmse:1.04317\tvalidation_1-rmse:1.01826\n",
      "[4]\tvalidation_0-rmse:1.01314\tvalidation_1-rmse:0.99708\n",
      "[5]\tvalidation_0-rmse:0.98750\tvalidation_1-rmse:0.97953\n",
      "[6]\tvalidation_0-rmse:0.96491\tvalidation_1-rmse:0.96535\n",
      "[7]\tvalidation_0-rmse:0.93935\tvalidation_1-rmse:0.95269\n",
      "[8]\tvalidation_0-rmse:0.92165\tvalidation_1-rmse:0.94387\n",
      "[9]\tvalidation_0-rmse:0.90738\tvalidation_1-rmse:0.93595\n",
      "[10]\tvalidation_0-rmse:0.89388\tvalidation_1-rmse:0.92942\n",
      "[11]\tvalidation_0-rmse:0.88166\tvalidation_1-rmse:0.92412\n",
      "[12]\tvalidation_0-rmse:0.87201\tvalidation_1-rmse:0.91947\n",
      "[13]\tvalidation_0-rmse:0.86385\tvalidation_1-rmse:0.91521\n",
      "[14]\tvalidation_0-rmse:0.85628\tvalidation_1-rmse:0.91228\n",
      "[15]\tvalidation_0-rmse:0.85000\tvalidation_1-rmse:0.91038\n",
      "[16]\tvalidation_0-rmse:0.84426\tvalidation_1-rmse:0.90858\n",
      "[17]\tvalidation_0-rmse:0.83944\tvalidation_1-rmse:0.90626\n",
      "[18]\tvalidation_0-rmse:0.83519\tvalidation_1-rmse:0.90467\n",
      "[19]\tvalidation_0-rmse:0.83168\tvalidation_1-rmse:0.90416\n",
      "[20]\tvalidation_0-rmse:0.82772\tvalidation_1-rmse:0.90504\n",
      "[21]\tvalidation_0-rmse:0.82474\tvalidation_1-rmse:0.90447\n",
      "[22]\tvalidation_0-rmse:0.82188\tvalidation_1-rmse:0.90346\n",
      "[23]\tvalidation_0-rmse:0.81913\tvalidation_1-rmse:0.90306\n",
      "[24]\tvalidation_0-rmse:0.81626\tvalidation_1-rmse:0.90244\n",
      "[25]\tvalidation_0-rmse:0.81387\tvalidation_1-rmse:0.90151\n",
      "[26]\tvalidation_0-rmse:0.81160\tvalidation_1-rmse:0.90092\n",
      "[27]\tvalidation_0-rmse:0.80886\tvalidation_1-rmse:0.90099\n",
      "[28]\tvalidation_0-rmse:0.80684\tvalidation_1-rmse:0.90017\n",
      "[29]\tvalidation_0-rmse:0.80516\tvalidation_1-rmse:0.89995\n",
      "[30]\tvalidation_0-rmse:0.80284\tvalidation_1-rmse:0.89970\n",
      "[31]\tvalidation_0-rmse:0.80161\tvalidation_1-rmse:0.89967\n",
      "[32]\tvalidation_0-rmse:0.79912\tvalidation_1-rmse:0.89863\n",
      "[33]\tvalidation_0-rmse:0.79769\tvalidation_1-rmse:0.89814\n",
      "[34]\tvalidation_0-rmse:0.79631\tvalidation_1-rmse:0.89785\n",
      "[35]\tvalidation_0-rmse:0.79519\tvalidation_1-rmse:0.89786\n",
      "[36]\tvalidation_0-rmse:0.79420\tvalidation_1-rmse:0.89783\n",
      "[37]\tvalidation_0-rmse:0.79239\tvalidation_1-rmse:0.89742\n",
      "[38]\tvalidation_0-rmse:0.79024\tvalidation_1-rmse:0.89740\n",
      "[39]\tvalidation_0-rmse:0.78920\tvalidation_1-rmse:0.89787\n",
      "[40]\tvalidation_0-rmse:0.78775\tvalidation_1-rmse:0.89789\n",
      "[41]\tvalidation_0-rmse:0.78653\tvalidation_1-rmse:0.89794\n",
      "[42]\tvalidation_0-rmse:0.78532\tvalidation_1-rmse:0.89805\n",
      "[43]\tvalidation_0-rmse:0.78437\tvalidation_1-rmse:0.89794\n"
     ]
    },
    {
     "data": {
      "text/plain": [
       "XGBRegressor(base_score=0.5, booster='gbtree', colsample_bylevel=1,\n",
       "             colsample_bynode=1, colsample_bytree=0.8, eta=0.1, gamma=0,\n",
       "             gpu_id=-1, importance_type='gain', interaction_constraints='',\n",
       "             learning_rate=0.100000001, max_delta_step=0, max_depth=10,\n",
       "             min_child_weight=0.5, missing=nan, monotone_constraints='()',\n",
       "             n_estimators=1000, n_jobs=4, num_parallel_tree=1,\n",
       "             objective='reg:squarederror', random_state=42, reg_alpha=0,\n",
       "             reg_lambda=1, scale_pos_weight=1, seed=42, subsample=0.8,\n",
       "             tree_method='approx', validate_parameters=1, verbosity=None)"
      ]
     },
     "execution_count": 26,
     "metadata": {},
     "output_type": "execute_result"
    }
   ],
   "source": [
    "predict.fit(\n",
    "    set_training, \n",
    "    ans_training, \n",
    "    eval_metric=\"rmse\", \n",
    "    eval_set=[(set_training, ans_training), (set_val, ans_val)], \n",
    "    verbose=True, \n",
    "    early_stopping_rounds = 6)"
   ]
  },
  {
   "cell_type": "code",
   "execution_count": 27,
   "metadata": {},
   "outputs": [],
   "source": [
    "ans_pred_val = predict.predict(set_val).clip(0, 20)\n",
    "ans_pred_test = predict.predict(set_test).clip(0, 20)"
   ]
  },
  {
   "cell_type": "code",
   "execution_count": 31,
   "metadata": {},
   "outputs": [
    {
     "data": {
      "text/html": [
       "<div>\n",
       "<style scoped>\n",
       "    .dataframe tbody tr th:only-of-type {\n",
       "        vertical-align: middle;\n",
       "    }\n",
       "\n",
       "    .dataframe tbody tr th {\n",
       "        vertical-align: top;\n",
       "    }\n",
       "\n",
       "    .dataframe thead th {\n",
       "        text-align: right;\n",
       "    }\n",
       "</style>\n",
       "<table border=\"1\" class=\"dataframe\">\n",
       "  <thead>\n",
       "    <tr style=\"text-align: right;\">\n",
       "      <th></th>\n",
       "      <th>ID</th>\n",
       "    </tr>\n",
       "  </thead>\n",
       "  <tbody>\n",
       "    <tr>\n",
       "      <th>0</th>\n",
       "      <td>0</td>\n",
       "    </tr>\n",
       "    <tr>\n",
       "      <th>1</th>\n",
       "      <td>1</td>\n",
       "    </tr>\n",
       "    <tr>\n",
       "      <th>2</th>\n",
       "      <td>2</td>\n",
       "    </tr>\n",
       "    <tr>\n",
       "      <th>3</th>\n",
       "      <td>3</td>\n",
       "    </tr>\n",
       "    <tr>\n",
       "      <th>4</th>\n",
       "      <td>4</td>\n",
       "    </tr>\n",
       "  </tbody>\n",
       "</table>\n",
       "</div>"
      ],
      "text/plain": [
       "   ID\n",
       "0   0\n",
       "1   1\n",
       "2   2\n",
       "3   3\n",
       "4   4"
      ]
     },
     "execution_count": 31,
     "metadata": {},
     "output_type": "execute_result"
    }
   ],
   "source": [
    "nS=sample_submission.drop(['item_cnt_month'],axis=1)\n",
    "nS.head()"
   ]
  },
  {
   "cell_type": "code",
   "execution_count": 32,
   "metadata": {},
   "outputs": [
    {
     "data": {
      "text/html": [
       "<div>\n",
       "<style scoped>\n",
       "    .dataframe tbody tr th:only-of-type {\n",
       "        vertical-align: middle;\n",
       "    }\n",
       "\n",
       "    .dataframe tbody tr th {\n",
       "        vertical-align: top;\n",
       "    }\n",
       "\n",
       "    .dataframe thead th {\n",
       "        text-align: right;\n",
       "    }\n",
       "</style>\n",
       "<table border=\"1\" class=\"dataframe\">\n",
       "  <thead>\n",
       "    <tr style=\"text-align: right;\">\n",
       "      <th></th>\n",
       "      <th>ID</th>\n",
       "      <th>item_cnt_month</th>\n",
       "    </tr>\n",
       "  </thead>\n",
       "  <tbody>\n",
       "    <tr>\n",
       "      <th>0</th>\n",
       "      <td>0</td>\n",
       "      <td>0.416770</td>\n",
       "    </tr>\n",
       "    <tr>\n",
       "      <th>1</th>\n",
       "      <td>1</td>\n",
       "      <td>0.486448</td>\n",
       "    </tr>\n",
       "    <tr>\n",
       "      <th>2</th>\n",
       "      <td>2</td>\n",
       "      <td>0.860094</td>\n",
       "    </tr>\n",
       "    <tr>\n",
       "      <th>3</th>\n",
       "      <td>3</td>\n",
       "      <td>0.451611</td>\n",
       "    </tr>\n",
       "    <tr>\n",
       "      <th>4</th>\n",
       "      <td>4</td>\n",
       "      <td>3.194398</td>\n",
       "    </tr>\n",
       "  </tbody>\n",
       "</table>\n",
       "</div>"
      ],
      "text/plain": [
       "   ID  item_cnt_month\n",
       "0   0        0.416770\n",
       "1   1        0.486448\n",
       "2   2        0.860094\n",
       "3   3        0.451611\n",
       "4   4        3.194398"
      ]
     },
     "execution_count": 32,
     "metadata": {},
     "output_type": "execute_result"
    }
   ],
   "source": [
    "y_dataFrame=pd.DataFrame(ans_pred_test,columns=['item_cnt_month'])\n",
    "submission=pd.concat([nS,y_dataFrame],axis=1)\n",
    "submission.dropna()\n",
    "submission['ID']=submission['ID'].astype(int)\n",
    "submission.head()"
   ]
  },
  {
   "cell_type": "code",
   "execution_count": 33,
   "metadata": {},
   "outputs": [],
   "source": [
    "submission.to_csv('submission_1.csv',index=False)"
   ]
  },
  {
   "cell_type": "code",
   "execution_count": 28,
   "metadata": {},
   "outputs": [],
   "source": []
  },
  {
   "cell_type": "code",
   "execution_count": null,
   "metadata": {},
   "outputs": [],
   "source": []
  },
  {
   "cell_type": "code",
   "execution_count": null,
   "metadata": {},
   "outputs": [],
   "source": []
  },
  {
   "cell_type": "code",
   "execution_count": null,
   "metadata": {},
   "outputs": [],
   "source": []
  },
  {
   "cell_type": "code",
   "execution_count": null,
   "metadata": {},
   "outputs": [],
   "source": []
  },
  {
   "cell_type": "code",
   "execution_count": null,
   "metadata": {},
   "outputs": [],
   "source": []
  },
  {
   "cell_type": "code",
   "execution_count": null,
   "metadata": {},
   "outputs": [],
   "source": []
  },
  {
   "cell_type": "code",
   "execution_count": null,
   "metadata": {},
   "outputs": [],
   "source": []
  },
  {
   "cell_type": "code",
   "execution_count": null,
   "metadata": {},
   "outputs": [],
   "source": []
  }
 ],
 "metadata": {
  "kernelspec": {
   "display_name": "Python 3",
   "language": "python",
   "name": "python3"
  },
  "language_info": {
   "codemirror_mode": {
    "name": "ipython",
    "version": 3
   },
   "file_extension": ".py",
   "mimetype": "text/x-python",
   "name": "python",
   "nbconvert_exporter": "python",
   "pygments_lexer": "ipython3",
   "version": "3.7.3"
  }
 },
 "nbformat": 4,
 "nbformat_minor": 2
}
